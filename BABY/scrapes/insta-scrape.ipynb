{
 "cells": [
  {
   "cell_type": "code",
   "execution_count": null,
   "metadata": {},
   "outputs": [],
   "source": [
    "import urllib.request\n",
    "import re\n",
    "import json\n",
    "\n",
    "request_url = urllib.request.urlopen(\n",
    "    'https://www.instagram.com/p/CWeOM1KBhCn/')  #justinbeiber\n",
    "print(request_url.read())\n",
    "\n",
    "with open('justin.json') as f:\n",
    "    data = json.load(f)\n",
    "\n",
    "print(type(data))"
   ]
  },
  {
   "cell_type": "code",
   "execution_count": null,
   "metadata": {},
   "outputs": [],
   "source": [
    "data['entry_data']"
   ]
  },
  {
   "cell_type": "code",
   "execution_count": null,
   "metadata": {},
   "outputs": [],
   "source": [
    "#try at own risk\n",
    "\n",
    "#request the profile page of justinbeiber\n",
    "\n",
    "#request_url = urllib.request.urlopen('https://www.instagram.com/justinbeiber/')\n",
    "\n",
    "# read profile page html as a string\n",
    "\n",
    "#page_string = str(request_url.read())\n",
    "\n",
    "# extract window._sharedData json string from profile page\n",
    "#json_string = re.search(\"window._sharedData = ([^<]*);</script>\",\n",
    "#                        page_string).group(1)\n",
    "\n",
    "#print(json_string)"
   ]
  },
  {
   "cell_type": "code",
   "execution_count": null,
   "metadata": {},
   "outputs": [],
   "source": []
  }
 ],
 "metadata": {
  "interpreter": {
   "hash": "ba05d4cf758241415c516a50c1102bbda050176b97d1bedfc10c64ef7df7d0e7"
  },
  "kernelspec": {
   "display_name": "Python 3 (ipykernel)",
   "language": "python",
   "name": "python3"
  },
  "language_info": {
   "codemirror_mode": {
    "name": "ipython",
    "version": 3
   },
   "file_extension": ".py",
   "mimetype": "text/x-python",
   "name": "python",
   "nbconvert_exporter": "python",
   "pygments_lexer": "ipython3",
   "version": "3.8.12"
  },
  "toc": {
   "base_numbering": 1,
   "nav_menu": {},
   "number_sections": true,
   "sideBar": true,
   "skip_h1_title": false,
   "title_cell": "Table of Contents",
   "title_sidebar": "Contents",
   "toc_cell": false,
   "toc_position": {},
   "toc_section_display": true,
   "toc_window_display": false
  }
 },
 "nbformat": 4,
 "nbformat_minor": 2
}
